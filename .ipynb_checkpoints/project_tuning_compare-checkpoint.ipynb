{
 "cells": [
  {
   "cell_type": "markdown",
   "metadata": {},
   "source": [
    "### Parameter Tuning and Model Selection\n",
    "\n",
    "In this Jupyter Notebook, cleaned data done in previous notebook will be used for model creation, hyperparameter tuning and choose the best model for prediction."
   ]
  },
  {
   "cell_type": "markdown",
   "metadata": {},
   "source": [
    "### Import package"
   ]
  },
  {
   "cell_type": "code",
   "execution_count": 57,
   "metadata": {},
   "outputs": [],
   "source": [
    "import pandas as pd\n",
    "import numpy as np\n",
    "import matplotlib.pyplot as plt\n",
    "import seaborn as sb\n",
    "from sklearn.linear_model import LogisticRegression\n",
    "from sklearn.model_selection import cross_val_score,RandomizedSearchCV\n",
    "from sklearn.ensemble import RandomForestClassifier\n",
    "from sklearn.tree import DecisionTreeClassifier\n",
    "from sklearn.metrics import balanced_accuracy_score, roc_auc_score,roc_curve,confusion_matrix,plot_confusion_matrix,classification_report,precision_score,recall_score,f1_score,accuracy_score,plot_roc_curve, confusion_matrix\n",
    "import joblib"
   ]
  },
  {
   "cell_type": "markdown",
   "metadata": {},
   "source": [
    "### Read traning and testing dataset"
   ]
  },
  {
   "cell_type": "code",
   "execution_count": 2,
   "metadata": {},
   "outputs": [],
   "source": [
    "train = pd.read_csv('clean_train.csv')\n",
    "test = pd.read_csv('clean_test.csv')"
   ]
  },
  {
   "cell_type": "markdown",
   "metadata": {},
   "source": [
    "### Split dataset into x and y variable"
   ]
  },
  {
   "cell_type": "code",
   "execution_count": 3,
   "metadata": {},
   "outputs": [],
   "source": [
    "x_train = train.drop(columns=['Churn'])\n",
    "y_train = train['Churn']\n",
    "x_test = test.drop(columns=['Churn'])\n",
    "y_test = test['Churn']"
   ]
  },
  {
   "cell_type": "markdown",
   "metadata": {},
   "source": [
    "#### For this project, classification model that will be used are Logistic Regression, Decision Tree and Random Forest"
   ]
  },
  {
   "cell_type": "markdown",
   "metadata": {},
   "source": [
    "### Model fitting (with default parameter)"
   ]
  },
  {
   "cell_type": "code",
   "execution_count": 4,
   "metadata": {},
   "outputs": [],
   "source": [
    "logistic = LogisticRegression()\n",
    "dec_tree = DecisionTreeClassifier()\n",
    "ran_forest = RandomForestClassifier()"
   ]
  },
  {
   "cell_type": "markdown",
   "metadata": {},
   "source": [
    "### Fit training dataset with model"
   ]
  },
  {
   "cell_type": "code",
   "execution_count": 5,
   "metadata": {},
   "outputs": [
    {
     "name": "stderr",
     "output_type": "stream",
     "text": [
      "/opt/anaconda3/lib/python3.7/site-packages/sklearn/linear_model/_logistic.py:940: ConvergenceWarning: lbfgs failed to converge (status=1):\n",
      "STOP: TOTAL NO. of ITERATIONS REACHED LIMIT.\n",
      "\n",
      "Increase the number of iterations (max_iter) or scale the data as shown in:\n",
      "    https://scikit-learn.org/stable/modules/preprocessing.html\n",
      "Please also refer to the documentation for alternative solver options:\n",
      "    https://scikit-learn.org/stable/modules/linear_model.html#logistic-regression\n",
      "  extra_warning_msg=_LOGISTIC_SOLVER_CONVERGENCE_MSG)\n"
     ]
    },
    {
     "data": {
      "text/plain": [
       "RandomForestClassifier(bootstrap=True, ccp_alpha=0.0, class_weight=None,\n",
       "                       criterion='gini', max_depth=None, max_features='auto',\n",
       "                       max_leaf_nodes=None, max_samples=None,\n",
       "                       min_impurity_decrease=0.0, min_impurity_split=None,\n",
       "                       min_samples_leaf=1, min_samples_split=2,\n",
       "                       min_weight_fraction_leaf=0.0, n_estimators=100,\n",
       "                       n_jobs=None, oob_score=False, random_state=None,\n",
       "                       verbose=0, warm_start=False)"
      ]
     },
     "execution_count": 5,
     "metadata": {},
     "output_type": "execute_result"
    }
   ],
   "source": [
    "logistic.fit(x_train,y_train)\n",
    "dec_tree.fit(x_train,y_train)\n",
    "ran_forest.fit(x_train,y_train)"
   ]
  },
  {
   "cell_type": "markdown",
   "metadata": {},
   "source": [
    "### Check cross validation score between model"
   ]
  },
  {
   "cell_type": "code",
   "execution_count": 6,
   "metadata": {},
   "outputs": [
    {
     "name": "stderr",
     "output_type": "stream",
     "text": [
      "/opt/anaconda3/lib/python3.7/site-packages/sklearn/linear_model/_logistic.py:940: ConvergenceWarning: lbfgs failed to converge (status=1):\n",
      "STOP: TOTAL NO. of ITERATIONS REACHED LIMIT.\n",
      "\n",
      "Increase the number of iterations (max_iter) or scale the data as shown in:\n",
      "    https://scikit-learn.org/stable/modules/preprocessing.html\n",
      "Please also refer to the documentation for alternative solver options:\n",
      "    https://scikit-learn.org/stable/modules/linear_model.html#logistic-regression\n",
      "  extra_warning_msg=_LOGISTIC_SOLVER_CONVERGENCE_MSG)\n",
      "/opt/anaconda3/lib/python3.7/site-packages/sklearn/linear_model/_logistic.py:940: ConvergenceWarning: lbfgs failed to converge (status=1):\n",
      "STOP: TOTAL NO. of ITERATIONS REACHED LIMIT.\n",
      "\n",
      "Increase the number of iterations (max_iter) or scale the data as shown in:\n",
      "    https://scikit-learn.org/stable/modules/preprocessing.html\n",
      "Please also refer to the documentation for alternative solver options:\n",
      "    https://scikit-learn.org/stable/modules/linear_model.html#logistic-regression\n",
      "  extra_warning_msg=_LOGISTIC_SOLVER_CONVERGENCE_MSG)\n",
      "/opt/anaconda3/lib/python3.7/site-packages/sklearn/linear_model/_logistic.py:940: ConvergenceWarning: lbfgs failed to converge (status=1):\n",
      "STOP: TOTAL NO. of ITERATIONS REACHED LIMIT.\n",
      "\n",
      "Increase the number of iterations (max_iter) or scale the data as shown in:\n",
      "    https://scikit-learn.org/stable/modules/preprocessing.html\n",
      "Please also refer to the documentation for alternative solver options:\n",
      "    https://scikit-learn.org/stable/modules/linear_model.html#logistic-regression\n",
      "  extra_warning_msg=_LOGISTIC_SOLVER_CONVERGENCE_MSG)\n",
      "/opt/anaconda3/lib/python3.7/site-packages/sklearn/linear_model/_logistic.py:940: ConvergenceWarning: lbfgs failed to converge (status=1):\n",
      "STOP: TOTAL NO. of ITERATIONS REACHED LIMIT.\n",
      "\n",
      "Increase the number of iterations (max_iter) or scale the data as shown in:\n",
      "    https://scikit-learn.org/stable/modules/preprocessing.html\n",
      "Please also refer to the documentation for alternative solver options:\n",
      "    https://scikit-learn.org/stable/modules/linear_model.html#logistic-regression\n",
      "  extra_warning_msg=_LOGISTIC_SOLVER_CONVERGENCE_MSG)\n",
      "/opt/anaconda3/lib/python3.7/site-packages/sklearn/linear_model/_logistic.py:940: ConvergenceWarning: lbfgs failed to converge (status=1):\n",
      "STOP: TOTAL NO. of ITERATIONS REACHED LIMIT.\n",
      "\n",
      "Increase the number of iterations (max_iter) or scale the data as shown in:\n",
      "    https://scikit-learn.org/stable/modules/preprocessing.html\n",
      "Please also refer to the documentation for alternative solver options:\n",
      "    https://scikit-learn.org/stable/modules/linear_model.html#logistic-regression\n",
      "  extra_warning_msg=_LOGISTIC_SOLVER_CONVERGENCE_MSG)\n"
     ]
    }
   ],
   "source": [
    "log_cv_0 = cross_val_score(logistic,x_train,y_train,cv=5)*100\n",
    "tree_cv_0 = cross_val_score(dec_tree,x_train,y_train,cv=5)*100\n",
    "forest_cv_0 = cross_val_score(ran_forest,x_train,y_train,cv=5)*100"
   ]
  },
  {
   "cell_type": "code",
   "execution_count": 7,
   "metadata": {},
   "outputs": [
    {
     "data": {
      "image/png": "[encoded data removed]",
      "text/plain": [
       "<Figure size 1152x504 with 1 Axes>"
      ]
     },
     "metadata": {
      "needs_background": "light"
     },
     "output_type": "display_data"
    }
   ],
   "source": [
    "plt.figure(figsize=(16,7))\n",
    "plt.title('Cross validation score 5 folds')\n",
    "plt.plot([1,2,3,4,5],log_cv_0)\n",
    "plt.plot([1,2,3,4,5],tree_cv_0)\n",
    "plt.plot([1,2,3,4,5],forest_cv_0)\n",
    "plt.plot([1,2,3,4,5],log_cv_0,'yo')\n",
    "plt.plot([1,2,3,4,5],tree_cv_0,'yo')\n",
    "plt.plot([1,2,3,4,5],forest_cv_0,'yo')\n",
    "plt.legend(['Logistic','Decision Tree','Random Forest'])\n",
    "plt.xticks(np.arange(1,6))\n",
    "plt.yticks(np.arange(80,97,1))\n",
    "plt.show()"
   ]
  },
  {
   "cell_type": "markdown",
   "metadata": {},
   "source": [
    "##### Logistic regression and decision tree cross validation accross 5 folds fluctuate more than random forest. Let's check if CV will be more stable after hyperparameter tuning."
   ]
  },
  {
   "cell_type": "code",
   "execution_count": 90,
   "metadata": {},
   "outputs": [
    {
     "data": {
      "image/png": "[encoded data removed]",
      "text/plain": [
       "<Figure size 864x360 with 1 Axes>"
      ]
     },
     "metadata": {
      "needs_background": "light"
     },
     "output_type": "display_data"
    }
   ],
   "source": [
    "plt.figure(figsize=(12,5))\n",
    "plt.title('Average cross validation')\n",
    "plot = plt.bar(['Logistic','Decision Tree','Random Forest'],[log_cv_0.mean(),tree_cv_0.mean(),forest_cv_0.mean()],color=['limegreen','cornflowerblue','khaki'])\n",
    "plt.ylabel('CV rate')\n",
    "plt.xlabel('Model')\n",
    "for i in plot:\n",
    "    height = i.get_height()\n",
    "    plt.text(i.get_x() + i.get_width()/2.,\n",
    "             1.002*height,'%d'% int(height),ha='center',va='bottom' )\n",
    "plt.show()"
   ]
  },
  {
   "cell_type": "markdown",
   "metadata": {},
   "source": [
    "##### With default parameter, random forest has the highest cross validation score with 93%. "
   ]
  },
  {
   "cell_type": "markdown",
   "metadata": {},
   "source": [
    "### Hyperparameter tuning\n",
    "\n",
    "By changing model parameter to certain value, we hope that our model performance can improve in classifying churning rate.\n",
    "\n",
    "For this project, RandomizedSearch will be used instead of GridSearch for time efficiency."
   ]
  },
  {
   "cell_type": "code",
   "execution_count": 9,
   "metadata": {},
   "outputs": [],
   "source": [
    "def tuning(model,parameter,n_cv):\n",
    "    random = RandomizedSearchCV(model, param_distributions=parameter, cv = n_cv)\n",
    "    random.fit(x_train,y_train)\n",
    "    best_param = random.best_params_\n",
    "    \n",
    "    return best_param"
   ]
  },
  {
   "cell_type": "markdown",
   "metadata": {},
   "source": [
    "#### Parameter for logistic regression\n",
    "\n",
    "Parameter to be tested:\n",
    "\n",
    "- penalty\n",
    "- solver\n",
    "- max iteration"
   ]
  },
  {
   "cell_type": "code",
   "execution_count": 10,
   "metadata": {},
   "outputs": [
    {
     "name": "stderr",
     "output_type": "stream",
     "text": [
      "/opt/anaconda3/lib/python3.7/site-packages/sklearn/utils/optimize.py:212: ConvergenceWarning: newton-cg failed to converge. Increase the number of iterations.\n",
      "  \"number of iterations.\", ConvergenceWarning)\n",
      "/opt/anaconda3/lib/python3.7/site-packages/sklearn/utils/optimize.py:212: ConvergenceWarning: newton-cg failed to converge. Increase the number of iterations.\n",
      "  \"number of iterations.\", ConvergenceWarning)\n",
      "/opt/anaconda3/lib/python3.7/site-packages/sklearn/utils/optimize.py:212: ConvergenceWarning: newton-cg failed to converge. Increase the number of iterations.\n",
      "  \"number of iterations.\", ConvergenceWarning)\n",
      "/opt/anaconda3/lib/python3.7/site-packages/sklearn/utils/optimize.py:212: ConvergenceWarning: newton-cg failed to converge. Increase the number of iterations.\n",
      "  \"number of iterations.\", ConvergenceWarning)\n",
      "/opt/anaconda3/lib/python3.7/site-packages/sklearn/utils/optimize.py:212: ConvergenceWarning: newton-cg failed to converge. Increase the number of iterations.\n",
      "  \"number of iterations.\", ConvergenceWarning)\n",
      "/opt/anaconda3/lib/python3.7/site-packages/sklearn/model_selection/_validation.py:536: FitFailedWarning: Estimator fit failed. The score on this train-test partition for these parameters will be set to nan. Details: \n",
      "ValueError: Solver newton-cg supports only 'l2' or 'none' penalties, got elasticnet penalty.\n",
      "\n",
      "  FitFailedWarning)\n",
      "/opt/anaconda3/lib/python3.7/site-packages/sklearn/model_selection/_validation.py:536: FitFailedWarning: Estimator fit failed. The score on this train-test partition for these parameters will be set to nan. Details: \n",
      "ValueError: Solver lbfgs supports only 'l2' or 'none' penalties, got l1 penalty.\n",
      "\n",
      "  FitFailedWarning)\n",
      "/opt/anaconda3/lib/python3.7/site-packages/sklearn/linear_model/_sag.py:330: ConvergenceWarning: The max_iter was reached which means the coef_ did not converge\n",
      "  \"the coef_ did not converge\", ConvergenceWarning)\n",
      "/opt/anaconda3/lib/python3.7/site-packages/sklearn/linear_model/_sag.py:330: ConvergenceWarning: The max_iter was reached which means the coef_ did not converge\n",
      "  \"the coef_ did not converge\", ConvergenceWarning)\n",
      "/opt/anaconda3/lib/python3.7/site-packages/sklearn/linear_model/_sag.py:330: ConvergenceWarning: The max_iter was reached which means the coef_ did not converge\n",
      "  \"the coef_ did not converge\", ConvergenceWarning)\n",
      "/opt/anaconda3/lib/python3.7/site-packages/sklearn/linear_model/_sag.py:330: ConvergenceWarning: The max_iter was reached which means the coef_ did not converge\n",
      "  \"the coef_ did not converge\", ConvergenceWarning)\n",
      "/opt/anaconda3/lib/python3.7/site-packages/sklearn/linear_model/_sag.py:330: ConvergenceWarning: The max_iter was reached which means the coef_ did not converge\n",
      "  \"the coef_ did not converge\", ConvergenceWarning)\n",
      "/opt/anaconda3/lib/python3.7/site-packages/sklearn/linear_model/_sag.py:330: ConvergenceWarning: The max_iter was reached which means the coef_ did not converge\n",
      "  \"the coef_ did not converge\", ConvergenceWarning)\n",
      "/opt/anaconda3/lib/python3.7/site-packages/sklearn/linear_model/_sag.py:330: ConvergenceWarning: The max_iter was reached which means the coef_ did not converge\n",
      "  \"the coef_ did not converge\", ConvergenceWarning)\n",
      "/opt/anaconda3/lib/python3.7/site-packages/sklearn/linear_model/_sag.py:330: ConvergenceWarning: The max_iter was reached which means the coef_ did not converge\n",
      "  \"the coef_ did not converge\", ConvergenceWarning)\n",
      "/opt/anaconda3/lib/python3.7/site-packages/sklearn/linear_model/_sag.py:330: ConvergenceWarning: The max_iter was reached which means the coef_ did not converge\n",
      "  \"the coef_ did not converge\", ConvergenceWarning)\n",
      "/opt/anaconda3/lib/python3.7/site-packages/sklearn/linear_model/_sag.py:330: ConvergenceWarning: The max_iter was reached which means the coef_ did not converge\n",
      "  \"the coef_ did not converge\", ConvergenceWarning)\n",
      "/opt/anaconda3/lib/python3.7/site-packages/sklearn/model_selection/_validation.py:536: FitFailedWarning: Estimator fit failed. The score on this train-test partition for these parameters will be set to nan. Details: \n",
      "ValueError: Solver newton-cg supports only 'l2' or 'none' penalties, got l1 penalty.\n",
      "\n",
      "  FitFailedWarning)\n",
      "/opt/anaconda3/lib/python3.7/site-packages/sklearn/linear_model/_sag.py:330: ConvergenceWarning: The max_iter was reached which means the coef_ did not converge\n",
      "  \"the coef_ did not converge\", ConvergenceWarning)\n",
      "/opt/anaconda3/lib/python3.7/site-packages/sklearn/linear_model/_sag.py:330: ConvergenceWarning: The max_iter was reached which means the coef_ did not converge\n",
      "  \"the coef_ did not converge\", ConvergenceWarning)\n",
      "/opt/anaconda3/lib/python3.7/site-packages/sklearn/linear_model/_sag.py:330: ConvergenceWarning: The max_iter was reached which means the coef_ did not converge\n",
      "  \"the coef_ did not converge\", ConvergenceWarning)\n",
      "/opt/anaconda3/lib/python3.7/site-packages/sklearn/linear_model/_sag.py:330: ConvergenceWarning: The max_iter was reached which means the coef_ did not converge\n",
      "  \"the coef_ did not converge\", ConvergenceWarning)\n",
      "/opt/anaconda3/lib/python3.7/site-packages/sklearn/linear_model/_sag.py:330: ConvergenceWarning: The max_iter was reached which means the coef_ did not converge\n",
      "  \"the coef_ did not converge\", ConvergenceWarning)\n",
      "/opt/anaconda3/lib/python3.7/site-packages/sklearn/model_selection/_validation.py:536: FitFailedWarning: Estimator fit failed. The score on this train-test partition for these parameters will be set to nan. Details: \n",
      "ValueError: Solver lbfgs supports only 'l2' or 'none' penalties, got elasticnet penalty.\n",
      "\n",
      "  FitFailedWarning)\n"
     ]
    }
   ],
   "source": [
    "log_param = {\n",
    "    'penalty':['l1','l2','elasticnet','none'],'solver':['newton-cg','lbfgs','liblinear','sag','saga'],'max_iter':[1,10,100,1000,10000]\n",
    "}\n",
    "\n",
    "log_best = tuning(logistic,log_param,5)"
   ]
  },
  {
   "cell_type": "markdown",
   "metadata": {},
   "source": [
    "#### Parameter for decision tree\n",
    "\n",
    "Parameter to be tested:\n",
    "\n",
    "- criterion\n",
    "- splitter\n",
    "- max_depths\n",
    "- min_samples_splits\n",
    "- min_samples_leafs"
   ]
  },
  {
   "cell_type": "code",
   "execution_count": 21,
   "metadata": {},
   "outputs": [],
   "source": [
    "tree_param = {\n",
    "    'max_depth':[1,2,3,4,5],\n",
    "    'min_samples_split':[2,4,6,8,10],\n",
    "    'min_samples_leaf':[1,2,3,4,5],\n",
    "    'criterion':['gini','entropy'],\n",
    "    'splitter':['best','random']\n",
    "}\n",
    "\n",
    "tree_best = tuning(dec_tree,tree_param,5)"
   ]
  },
  {
   "cell_type": "markdown",
   "metadata": {},
   "source": [
    "#### Parameter for random forest\n",
    "\n",
    "Parameter to be tested:\n",
    "\n",
    "- n_estimators\n",
    "- max_features\n",
    "- min_sample_split\n",
    "- min_samples_leaf\n",
    "- bootstrap"
   ]
  },
  {
   "cell_type": "code",
   "execution_count": 27,
   "metadata": {},
   "outputs": [],
   "source": [
    "forest_param = {'n_estimators': [1, 2, 4, 8, 16, 32, 64, 100, 200],\n",
    "               'max_features': ['auto', 'sqrt','log2'],\n",
    "               'min_samples_split': [2, 5, 10],\n",
    "               'min_samples_leaf': [1, 2, 4],\n",
    "               'bootstrap': [True, False]\n",
    "}\n",
    "\n",
    "forest_best = tuning(ran_forest,forest_param,5)"
   ]
  },
  {
   "cell_type": "markdown",
   "metadata": {},
   "source": [
    "### Best parameters according to RandomizedSearch"
   ]
  },
  {
   "cell_type": "code",
   "execution_count": 13,
   "metadata": {},
   "outputs": [
    {
     "name": "stdout",
     "output_type": "stream",
     "text": [
      "{'solver': 'liblinear', 'penalty': 'l2', 'max_iter': 1000}\n"
     ]
    }
   ],
   "source": [
    "print(log_best)"
   ]
  },
  {
   "cell_type": "code",
   "execution_count": 14,
   "metadata": {},
   "outputs": [
    {
     "data": {
      "text/plain": [
       "LogisticRegression(C=1.0, class_weight=None, dual=False, fit_intercept=True,\n",
       "                   intercept_scaling=1, l1_ratio=None, max_iter=1000,\n",
       "                   multi_class='auto', n_jobs=None, penalty='l2',\n",
       "                   random_state=None, solver='liblinear', tol=0.0001, verbose=0,\n",
       "                   warm_start=False)"
      ]
     },
     "execution_count": 14,
     "metadata": {},
     "output_type": "execute_result"
    }
   ],
   "source": [
    "log_new = LogisticRegression(solver='liblinear',penalty='l2',max_iter=1000)\n",
    "log_new.fit(x_train,y_train)"
   ]
  },
  {
   "cell_type": "code",
   "execution_count": 22,
   "metadata": {},
   "outputs": [
    {
     "name": "stdout",
     "output_type": "stream",
     "text": [
      "{'splitter': 'best', 'min_samples_split': 2, 'min_samples_leaf': 4, 'max_depth': 4, 'criterion': 'gini'}\n"
     ]
    }
   ],
   "source": [
    "print(tree_best)"
   ]
  },
  {
   "cell_type": "code",
   "execution_count": 23,
   "metadata": {},
   "outputs": [
    {
     "data": {
      "text/plain": [
       "DecisionTreeClassifier(ccp_alpha=0.0, class_weight=None, criterion='gini',\n",
       "                       max_depth=4, max_features=None, max_leaf_nodes=None,\n",
       "                       min_impurity_decrease=0.0, min_impurity_split=None,\n",
       "                       min_samples_leaf=4, min_samples_split=2,\n",
       "                       min_weight_fraction_leaf=0.0, presort='deprecated',\n",
       "                       random_state=None, splitter='best')"
      ]
     },
     "execution_count": 23,
     "metadata": {},
     "output_type": "execute_result"
    }
   ],
   "source": [
    "tree_new = DecisionTreeClassifier(splitter='best',min_samples_split=2,min_samples_leaf=4,max_depth=4,criterion='gini')\n",
    "tree_new.fit(x_train,y_train)"
   ]
  },
  {
   "cell_type": "code",
   "execution_count": 28,
   "metadata": {},
   "outputs": [
    {
     "name": "stdout",
     "output_type": "stream",
     "text": [
      "{'n_estimators': 200, 'min_samples_split': 10, 'min_samples_leaf': 2, 'max_features': 'auto', 'bootstrap': False}\n"
     ]
    }
   ],
   "source": [
    "print(forest_best)"
   ]
  },
  {
   "cell_type": "code",
   "execution_count": 29,
   "metadata": {},
   "outputs": [
    {
     "data": {
      "text/plain": [
       "RandomForestClassifier(bootstrap=False, ccp_alpha=0.0, class_weight=None,\n",
       "                       criterion='gini', max_depth=None, max_features='auto',\n",
       "                       max_leaf_nodes=None, max_samples=None,\n",
       "                       min_impurity_decrease=0.0, min_impurity_split=None,\n",
       "                       min_samples_leaf=2, min_samples_split=10,\n",
       "                       min_weight_fraction_leaf=0.0, n_estimators=200,\n",
       "                       n_jobs=None, oob_score=False, random_state=None,\n",
       "                       verbose=0, warm_start=False)"
      ]
     },
     "execution_count": 29,
     "metadata": {},
     "output_type": "execute_result"
    }
   ],
   "source": [
    "forest_new = RandomForestClassifier(n_estimators=200,min_samples_split=10,min_samples_leaf=2,max_features='auto',bootstrap=False)\n",
    "forest_new.fit(x_train,y_train)"
   ]
  },
  {
   "cell_type": "markdown",
   "metadata": {},
   "source": [
    "### Comparing default parameters with hyperparameter tuning result"
   ]
  },
  {
   "cell_type": "code",
   "execution_count": 24,
   "metadata": {},
   "outputs": [
    {
     "name": "stdout",
     "output_type": "stream",
     "text": [
      "Logistic regression accuracy with default parameter 84.26 %\n",
      "Logistic regression accuracy with hyperparameter tuning 85.16 %\n",
      "After tuning, accuracy improve by around 0.9 %\n"
     ]
    }
   ],
   "source": [
    "log_acc_0 = round(logistic.score(x_test,y_test)*100,2)\n",
    "log_acc_1 = round(log_new.score(x_test,y_test)*100,2)\n",
    "\n",
    "print('Logistic regression accuracy with default parameter',log_acc_0,'%')\n",
    "print('Logistic regression accuracy with hyperparameter tuning',log_acc_1,'%')\n",
    "print('After tuning, accuracy improve by around',round(log_acc_1-log_acc_0,2),'%')"
   ]
  },
  {
   "cell_type": "code",
   "execution_count": 30,
   "metadata": {},
   "outputs": [
    {
     "name": "stdout",
     "output_type": "stream",
     "text": [
      "Decision tree accuracy with default parameter 92.5 %\n",
      "Decision tree accuracy with hyperparameter tuning 92.95 %\n",
      "After tuning, accuracy improve by around 0.45 %\n"
     ]
    }
   ],
   "source": [
    "tree_acc_0 = round(dec_tree.score(x_test,y_test)*100,2)\n",
    "tree_acc_1 = round(tree_new.score(x_test,y_test)*100,2)\n",
    "\n",
    "print('Decision tree accuracy with default parameter',tree_acc_0,'%')\n",
    "print('Decision tree accuracy with hyperparameter tuning',tree_acc_1,'%')\n",
    "print('After tuning, accuracy improve by around',round(tree_acc_1-tree_acc_0,2),'%')"
   ]
  },
  {
   "cell_type": "code",
   "execution_count": 31,
   "metadata": {},
   "outputs": [
    {
     "name": "stdout",
     "output_type": "stream",
     "text": [
      "Random forest accuracy with default parameter 94.15 %\n",
      "Random forest accuracy with hyperparameter tuning 94.15 %\n",
      "After tuning, accuracy improve by around 0.0 %\n"
     ]
    }
   ],
   "source": [
    "forest_acc_0 = round(ran_forest.score(x_test,y_test)*100,2)\n",
    "forest_acc_1 = round(forest_new.score(x_test,y_test)*100,2)\n",
    "\n",
    "print('Random forest accuracy with default parameter',forest_acc_0,'%')\n",
    "print('Random forest accuracy with hyperparameter tuning',forest_acc_1,'%')\n",
    "print('After tuning, accuracy improve by around',round(forest_acc_1-forest_acc_0,2),'%')"
   ]
  },
  {
   "cell_type": "markdown",
   "metadata": {},
   "source": [
    "##### Hyperparameter tuning improve all model's accuracy except for random forest.\n",
    "\n",
    "##### However, using accuracy as the only metrics might not be ideal especially since this dataset has an imbalanced target value. (85% for target 0, 15% for target 1)"
   ]
  },
  {
   "cell_type": "markdown",
   "metadata": {},
   "source": [
    "### Compare models after hyperparameter tuning"
   ]
  },
  {
   "cell_type": "markdown",
   "metadata": {},
   "source": [
    "##### Cross validation"
   ]
  },
  {
   "cell_type": "code",
   "execution_count": 32,
   "metadata": {},
   "outputs": [],
   "source": [
    "log_cv_1 = cross_val_score(log_new,x_train,y_train,cv=5)*100\n",
    "tree_cv_1 = cross_val_score(tree_new,x_train,y_train,cv=5)*100\n",
    "forest_cv_1 = cross_val_score(forest_new,x_train,y_train,cv=5)*100"
   ]
  },
  {
   "cell_type": "code",
   "execution_count": 33,
   "metadata": {},
   "outputs": [
    {
     "data": {
      "image/png": "[encoded data removed]",
      "text/plain": [
       "<Figure size 1152x504 with 1 Axes>"
      ]
     },
     "metadata": {
      "needs_background": "light"
     },
     "output_type": "display_data"
    }
   ],
   "source": [
    "plt.figure(figsize=(16,7))\n",
    "plt.title('Cross validation score 5 folds after tuning')\n",
    "plt.plot([1,2,3,4,5],log_cv_1)\n",
    "plt.plot([1,2,3,4,5],tree_cv_1)\n",
    "plt.plot([1,2,3,4,5],forest_cv_1)\n",
    "plt.plot([1,2,3,4,5],log_cv_1,'yo')\n",
    "plt.plot([1,2,3,4,5],tree_cv_1,'yo')\n",
    "plt.plot([1,2,3,4,5],forest_cv_1,'yo')\n",
    "plt.legend(['Logistic','Decision Tree','Random Forest'])\n",
    "plt.xticks(np.arange(1,6))\n",
    "plt.yticks(np.arange(80,97,1))\n",
    "plt.show()"
   ]
  },
  {
   "cell_type": "markdown",
   "metadata": {},
   "source": [
    "##### Flucuation in decision tree and logistic regression minimize -> more stable accross folds"
   ]
  },
  {
   "cell_type": "code",
   "execution_count": 89,
   "metadata": {},
   "outputs": [
    {
     "data": {
      "image/png": "[encoded data removed]",
      "text/plain": [
       "<Figure size 864x360 with 1 Axes>"
      ]
     },
     "metadata": {
      "needs_background": "light"
     },
     "output_type": "display_data"
    }
   ],
   "source": [
    "plt.figure(figsize=(12,5))\n",
    "plt.title('Average cross validation')\n",
    "plot = plt.bar(['Logistic','Decision Tree','Random Forest'],[log_cv_1.mean(),tree_cv_1.mean(),forest_cv_1.mean()],color=['limegreen','cornflowerblue','khaki'])\n",
    "plt.ylabel('CV rate')\n",
    "plt.xlabel('Model')\n",
    "for i in plot:\n",
    "    height = i.get_height()\n",
    "    plt.text(i.get_x() + i.get_width()/2.,\n",
    "             1.002*height,'%d'% int(height),ha='center',va='bottom' )\n",
    "plt.show()"
   ]
  },
  {
   "cell_type": "markdown",
   "metadata": {},
   "source": [
    "##### Decision tree improve and logistic regression improves by 1%\n",
    "##### Tuning does not affect random forest cross validation score -> similar to accuracy score"
   ]
  },
  {
   "cell_type": "markdown",
   "metadata": {},
   "source": [
    "### Classification report"
   ]
  },
  {
   "cell_type": "code",
   "execution_count": 35,
   "metadata": {},
   "outputs": [
    {
     "name": "stdout",
     "output_type": "stream",
     "text": [
      "Classification report logistic regression:\n",
      "               precision    recall  f1-score   support\n",
      "\n",
      "           0       0.88      0.96      0.92       572\n",
      "           1       0.45      0.19      0.27        95\n",
      "\n",
      "    accuracy                           0.85       667\n",
      "   macro avg       0.66      0.58      0.59       667\n",
      "weighted avg       0.82      0.85      0.82       667\n",
      "\n",
      "Classification report Decision tree classifier:\n",
      "               precision    recall  f1-score   support\n",
      "\n",
      "           0       0.94      0.98      0.96       572\n",
      "           1       0.85      0.61      0.71        95\n",
      "\n",
      "    accuracy                           0.93       667\n",
      "   macro avg       0.90      0.80      0.84       667\n",
      "weighted avg       0.93      0.93      0.92       667\n",
      "\n",
      "Classification report random forest classifier:\n",
      "               precision    recall  f1-score   support\n",
      "\n",
      "           0       0.94      1.00      0.97       572\n",
      "           1       0.98      0.60      0.75        95\n",
      "\n",
      "    accuracy                           0.94       667\n",
      "   macro avg       0.96      0.80      0.86       667\n",
      "weighted avg       0.94      0.94      0.94       667\n",
      "\n"
     ]
    }
   ],
   "source": [
    "print('Classification report logistic regression:\\n',classification_report(y_test,log_new.predict(x_test)))\n",
    "print('Classification report Decision tree classifier:\\n',classification_report(y_test,tree_new.predict(x_test)))\n",
    "print('Classification report random forest classifier:\\n',classification_report(y_test,forest_new.predict(x_test)))"
   ]
  },
  {
   "cell_type": "markdown",
   "metadata": {},
   "source": [
    "### Confusion matrix\n",
    "\n",
    "![title](https://static.packt-cdn.com/products/9781838555078/graphics/C13314_06_05.jpg)\n",
    "\n",
    "- True positive (TP): correct positive prediction\n",
    "- False positive (FP): incorrect positive prediction\n",
    "- True negative (TN): correct negative prediction\n",
    "- False negative (FN): incorrect negative prediction"
   ]
  },
  {
   "cell_type": "markdown",
   "metadata": {},
   "source": [
    "##### Logistic regression"
   ]
  },
  {
   "cell_type": "code",
   "execution_count": 37,
   "metadata": {},
   "outputs": [
    {
     "data": {
      "image/png": "[encoded data removed]",
      "text/plain": [
       "<Figure size 432x288 with 2 Axes>"
      ]
     },
     "metadata": {
      "needs_background": "light"
     },
     "output_type": "display_data"
    }
   ],
   "source": [
    "plot_confusion_matrix(log_new,x_test,y_test,values_format='0.0f')\n",
    "plt.show()"
   ]
  },
  {
   "cell_type": "markdown",
   "metadata": {},
   "source": [
    "True Negative = 550\n",
    "\n",
    "False Negative = 77\n",
    "\n",
    "False Positive = 22\n",
    "\n",
    "True Positive = 18"
   ]
  },
  {
   "cell_type": "markdown",
   "metadata": {},
   "source": [
    "##### Decision tree"
   ]
  },
  {
   "cell_type": "code",
   "execution_count": 39,
   "metadata": {},
   "outputs": [
    {
     "data": {
      "image/png": "[encoded data removed]",
      "text/plain": [
       "<Figure size 432x288 with 2 Axes>"
      ]
     },
     "metadata": {
      "needs_background": "light"
     },
     "output_type": "display_data"
    }
   ],
   "source": [
    "plot_confusion_matrix(tree_new,x_test,y_test,values_format='0.0f')\n",
    "plt.show()"
   ]
  },
  {
   "cell_type": "markdown",
   "metadata": {},
   "source": [
    "True Negative = 562\n",
    "\n",
    "False Negative = 37\n",
    "\n",
    "False Positive = 10\n",
    "\n",
    "True Negative = 58"
   ]
  },
  {
   "cell_type": "markdown",
   "metadata": {},
   "source": [
    "##### Random forest"
   ]
  },
  {
   "cell_type": "code",
   "execution_count": 41,
   "metadata": {},
   "outputs": [
    {
     "data": {
      "image/png": "[encoded data removed]",
      "text/plain": [
       "<Figure size 432x288 with 2 Axes>"
      ]
     },
     "metadata": {
      "needs_background": "light"
     },
     "output_type": "display_data"
    }
   ],
   "source": [
    "plot_confusion_matrix(forest_new,x_test,y_test,values_format='0.0f')\n",
    "plt.show()"
   ]
  },
  {
   "cell_type": "markdown",
   "metadata": {},
   "source": [
    "True Negative = 571\n",
    "\n",
    "False Negative = 38\n",
    "\n",
    "False Positive = 1\n",
    "\n",
    "True Positive = 57"
   ]
  },
  {
   "cell_type": "markdown",
   "metadata": {},
   "source": [
    "### Recall - If actual is 1, how many times can model predict 1?\n",
    "\n",
    "Recall positive (sensitivity): $\\displaystyle \\frac {TP} {TP + FN}$\n",
    "\n",
    "Recall negative (specificity): $\\displaystyle \\frac {TN} {TN + FP}$"
   ]
  },
  {
   "cell_type": "code",
   "execution_count": 60,
   "metadata": {},
   "outputs": [],
   "source": [
    "log_recall_pos = recall_score(y_test,log_new.predict(x_test),pos_label=1)\n",
    "log_recall_neg = recall_score(y_test,log_new.predict(x_test),pos_label = 0)\n",
    "tree_recall_pos = recall_score(y_test,tree_new.predict(x_test),pos_label=1)\n",
    "tree_recall_neg = recall_score(y_test,tree_new.predict(x_test),pos_label = 0)\n",
    "forest_recall_pos = recall_score(y_test,forest_new.predict(x_test),pos_label=1)\n",
    "forest_recall_neg = recall_score(y_test,forest_new.predict(x_test),pos_label = 0)"
   ]
  },
  {
   "cell_type": "code",
   "execution_count": 80,
   "metadata": {},
   "outputs": [
    {
     "data": {
      "text/html": [
       "<div>\n",
       "<style scoped>\n",
       "    .dataframe tbody tr th:only-of-type {\n",
       "        vertical-align: middle;\n",
       "    }\n",
       "\n",
       "    .dataframe tbody tr th {\n",
       "        vertical-align: top;\n",
       "    }\n",
       "\n",
       "    .dataframe thead th {\n",
       "        text-align: right;\n",
       "    }\n",
       "</style>\n",
       "<table border=\"1\" class=\"dataframe\">\n",
       "  <thead>\n",
       "    <tr style=\"text-align: right;\">\n",
       "      <th></th>\n",
       "      <th>Logistic</th>\n",
       "      <th>Decision Tree</th>\n",
       "      <th>Random Forest</th>\n",
       "    </tr>\n",
       "  </thead>\n",
       "  <tbody>\n",
       "    <tr>\n",
       "      <th>churn</th>\n",
       "      <td>0.189474</td>\n",
       "      <td>0.610526</td>\n",
       "      <td>0.600000</td>\n",
       "    </tr>\n",
       "    <tr>\n",
       "      <th>non churn</th>\n",
       "      <td>0.961538</td>\n",
       "      <td>0.982517</td>\n",
       "      <td>0.998252</td>\n",
       "    </tr>\n",
       "  </tbody>\n",
       "</table>\n",
       "</div>"
      ],
      "text/plain": [
       "           Logistic  Decision Tree  Random Forest\n",
       "churn      0.189474       0.610526       0.600000\n",
       "non churn  0.961538       0.982517       0.998252"
      ]
     },
     "execution_count": 80,
     "metadata": {},
     "output_type": "execute_result"
    }
   ],
   "source": [
    "pd.DataFrame({'Logistic':[log_recall_pos,log_recall_neg],'Decision Tree':[tree_recall_pos,tree_recall_neg],'Random Forest':[forest_recall_pos,forest_recall_neg]},index=['churn','non churn'])"
   ]
  },
  {
   "cell_type": "code",
   "execution_count": 81,
   "metadata": {},
   "outputs": [
    {
     "data": {
      "image/png": "[encoded data removed]",
      "text/plain": [
       "<Figure size 864x360 with 1 Axes>"
      ]
     },
     "metadata": {
      "needs_background": "light"
     },
     "output_type": "display_data"
    }
   ],
   "source": [
    "plt.figure(figsize=(12,5))\n",
    "plt.title('Recall score')\n",
    "plt.plot(['Logistic','Decision Tree','Random Forest'],[log_recall_pos,tree_recall_pos,forest_recall_pos])\n",
    "plt.plot(['Logistic','Decision Tree','Random Forest'],[log_recall_neg,tree_recall_neg,forest_recall_neg])\n",
    "plt.legend(['Churn','Not Churn'])\n",
    "plt.plot([log_recall_pos,tree_recall_pos,forest_recall_pos],'ro')\n",
    "plt.plot([log_recall_neg,tree_recall_neg,forest_recall_neg],'ro')\n",
    "plt.yticks(np.arange(0,1.2,0.2))\n",
    "plt.show()"
   ]
  },
  {
   "cell_type": "markdown",
   "metadata": {},
   "source": [
    "##### Once again, according to recall score, decision tree is the best model for predicting churn target\n",
    "##### While random forest is the best for predicting non churning target"
   ]
  },
  {
   "cell_type": "markdown",
   "metadata": {},
   "source": [
    "### Precision - If prediction is 1 how many times it is right?\n",
    "\n",
    "\n",
    "Formula Precision Positive = $\\displaystyle \\frac {TP}{TP+FP}$ \n",
    "\n",
    "Formula Precision Negative = $ \\displaystyle \\frac {TN}{TN+FN}$ "
   ]
  },
  {
   "cell_type": "code",
   "execution_count": 76,
   "metadata": {},
   "outputs": [],
   "source": [
    "log_prec_pos = precision_score(y_test,log_new.predict(x_test),pos_label=1)\n",
    "log_prec_neg = precision_score(y_test,log_new.predict(x_test),pos_label=0)\n",
    "tree_prec_pos = precision_score(y_test,tree_new.predict(x_test),pos_label=1)\n",
    "tree_prec_neg = precision_score(y_test,tree_new.predict(x_test),pos_label=0)\n",
    "forest_prec_pos = precision_score(y_test,forest_new.predict(x_test),pos_label=1)\n",
    "forest_prec_neg = precision_score(y_test,forest_new.predict(x_test),pos_label=0)"
   ]
  },
  {
   "cell_type": "code",
   "execution_count": 82,
   "metadata": {},
   "outputs": [
    {
     "data": {
      "text/html": [
       "<div>\n",
       "<style scoped>\n",
       "    .dataframe tbody tr th:only-of-type {\n",
       "        vertical-align: middle;\n",
       "    }\n",
       "\n",
       "    .dataframe tbody tr th {\n",
       "        vertical-align: top;\n",
       "    }\n",
       "\n",
       "    .dataframe thead th {\n",
       "        text-align: right;\n",
       "    }\n",
       "</style>\n",
       "<table border=\"1\" class=\"dataframe\">\n",
       "  <thead>\n",
       "    <tr style=\"text-align: right;\">\n",
       "      <th></th>\n",
       "      <th>Logistic</th>\n",
       "      <th>Decision Tree</th>\n",
       "      <th>Random Forest</th>\n",
       "    </tr>\n",
       "  </thead>\n",
       "  <tbody>\n",
       "    <tr>\n",
       "      <th>churn</th>\n",
       "      <td>0.450000</td>\n",
       "      <td>0.852941</td>\n",
       "      <td>0.982759</td>\n",
       "    </tr>\n",
       "    <tr>\n",
       "      <th>non churn</th>\n",
       "      <td>0.877193</td>\n",
       "      <td>0.938230</td>\n",
       "      <td>0.937603</td>\n",
       "    </tr>\n",
       "  </tbody>\n",
       "</table>\n",
       "</div>"
      ],
      "text/plain": [
       "           Logistic  Decision Tree  Random Forest\n",
       "churn      0.450000       0.852941       0.982759\n",
       "non churn  0.877193       0.938230       0.937603"
      ]
     },
     "execution_count": 82,
     "metadata": {},
     "output_type": "execute_result"
    }
   ],
   "source": [
    "pd.DataFrame({'Logistic':[log_prec_pos,log_prec_neg],'Decision Tree':[tree_prec_pos,tree_prec_neg],'Random Forest':[forest_prec_pos,forest_prec_neg]},index=['churn','non churn'])"
   ]
  },
  {
   "cell_type": "code",
   "execution_count": 83,
   "metadata": {},
   "outputs": [
    {
     "data": {
      "image/png": "[encoded data removed]",
      "text/plain": [
       "<Figure size 864x360 with 1 Axes>"
      ]
     },
     "metadata": {
      "needs_background": "light"
     },
     "output_type": "display_data"
    }
   ],
   "source": [
    "plt.figure(figsize=(12,5))\n",
    "plt.title('Precision score')\n",
    "plt.plot(['Logistic','Decision Tree','Random Forest'],[log_prec_pos,tree_prec_pos,forest_prec_pos])\n",
    "plt.plot(['Logistic','Decision Tree','Random Forest'],[log_prec_neg,tree_prec_neg,forest_prec_neg])\n",
    "plt.legend(['Churn','Not Churn'])\n",
    "plt.plot([log_prec_pos,tree_prec_pos,forest_prec_pos],'ro')\n",
    "plt.plot([log_prec_neg,tree_prec_neg,forest_prec_neg],'ro')\n",
    "plt.yticks(np.arange(0,1.2,0.2))\n",
    "plt.show()"
   ]
  },
  {
   "cell_type": "markdown",
   "metadata": {},
   "source": [
    "##### Random forest produced the most precise prediction"
   ]
  },
  {
   "cell_type": "markdown",
   "metadata": {},
   "source": [
    "### F1 Score - Harmonic mean between precision and recall\n",
    "\n",
    "Formula = $\\displaystyle 2 * (\\frac {PrecisionP * RecallP }{PrecisionP + RecallP})$"
   ]
  },
  {
   "cell_type": "code",
   "execution_count": 46,
   "metadata": {},
   "outputs": [],
   "source": [
    "f1_log_pos = f1_score(y_test,log_new.predict(x_test),pos_label=1)\n",
    "f1_tree_pos = f1_score(y_test,tree_new.predict(x_test),pos_label=1)\n",
    "f1_forest_pos = f1_score(y_test,forest_new.predict(x_test),pos_label=1)\n",
    "f1_log_neg = f1_score(y_test,log_new.predict(x_test),pos_label=0)\n",
    "f1_tree_neg = f1_score(y_test,tree_new.predict(x_test),pos_label=0)\n",
    "f1_forest_neg = f1_score(y_test,forest_new.predict(x_test),pos_label=0)"
   ]
  },
  {
   "cell_type": "code",
   "execution_count": 85,
   "metadata": {},
   "outputs": [
    {
     "data": {
      "text/html": [
       "<div>\n",
       "<style scoped>\n",
       "    .dataframe tbody tr th:only-of-type {\n",
       "        vertical-align: middle;\n",
       "    }\n",
       "\n",
       "    .dataframe tbody tr th {\n",
       "        vertical-align: top;\n",
       "    }\n",
       "\n",
       "    .dataframe thead th {\n",
       "        text-align: right;\n",
       "    }\n",
       "</style>\n",
       "<table border=\"1\" class=\"dataframe\">\n",
       "  <thead>\n",
       "    <tr style=\"text-align: right;\">\n",
       "      <th></th>\n",
       "      <th>Logistic</th>\n",
       "      <th>Decision Tree</th>\n",
       "      <th>Random Forest</th>\n",
       "    </tr>\n",
       "  </thead>\n",
       "  <tbody>\n",
       "    <tr>\n",
       "      <th>churn</th>\n",
       "      <td>0.266667</td>\n",
       "      <td>0.711656</td>\n",
       "      <td>0.745098</td>\n",
       "    </tr>\n",
       "    <tr>\n",
       "      <th>not churn</th>\n",
       "      <td>0.917431</td>\n",
       "      <td>0.959863</td>\n",
       "      <td>0.966977</td>\n",
       "    </tr>\n",
       "  </tbody>\n",
       "</table>\n",
       "</div>"
      ],
      "text/plain": [
       "           Logistic  Decision Tree  Random Forest\n",
       "churn      0.266667       0.711656       0.745098\n",
       "not churn  0.917431       0.959863       0.966977"
      ]
     },
     "execution_count": 85,
     "metadata": {},
     "output_type": "execute_result"
    }
   ],
   "source": [
    "pd.DataFrame({'Logistic':[f1_log_pos,f1_log_neg],'Decision Tree':[f1_tree_pos,f1_tree_neg],'Random Forest':[f1_forest_pos,f1_forest_neg]},index=['churn','not churn'])"
   ]
  },
  {
   "cell_type": "code",
   "execution_count": 86,
   "metadata": {},
   "outputs": [
    {
     "data": {
      "image/png": "[encoded data removed]",
      "text/plain": [
       "<Figure size 864x360 with 1 Axes>"
      ]
     },
     "metadata": {
      "needs_background": "light"
     },
     "output_type": "display_data"
    }
   ],
   "source": [
    "plt.figure(figsize=(12,5))\n",
    "plt.title('F1 Score')\n",
    "plt.plot(['Logistic','Decision Tree','Random Forest'],[f1_log_pos,f1_tree_pos,f1_forest_pos])\n",
    "plt.plot(['Logistic','Decision Tree','Random Forest'],[f1_log_neg,f1_tree_neg,f1_forest_neg])\n",
    "plt.plot([f1_log_pos,f1_tree_pos,f1_forest_pos],'ro')\n",
    "plt.plot([f1_log_neg,f1_tree_neg,f1_forest_neg],'ro')\n",
    "plt.yticks(np.arange(0,1.2,0.2))\n",
    "plt.legend(['Churn','Not Churn'])\n",
    "plt.show()"
   ]
  },
  {
   "cell_type": "markdown",
   "metadata": {},
   "source": [
    "##### Logistic regression has the lowest f1 score in both positive and negative f1 score"
   ]
  },
  {
   "cell_type": "markdown",
   "metadata": {},
   "source": [
    "### Balanced accuracy\n",
    "\n",
    "Formula: $\\displaystyle \\frac {recallP + recallN}{2} $\n",
    "\n",
    "calculated as the average of the proportion corrects of each class individually.\n",
    "\n",
    "Can be used as alternative for accuracy score, especially for unbalanced dataset."
   ]
  },
  {
   "cell_type": "code",
   "execution_count": 54,
   "metadata": {},
   "outputs": [],
   "source": [
    "balacc_log = round(balanced_accuracy_score(y_test,log_new.predict(x_test),adjusted=False)*100,2)\n",
    "balacc_tree = round(balanced_accuracy_score(y_test,tree_new.predict(x_test),adjusted=False)*100,2)\n",
    "balacc_forest = round(balanced_accuracy_score(y_test,forest_new.predict(x_test),adjusted=False)*100,2)"
   ]
  },
  {
   "cell_type": "code",
   "execution_count": 55,
   "metadata": {},
   "outputs": [
    {
     "data": {
      "image/png": "[encoded data removed]",
      "text/plain": [
       "<Figure size 864x360 with 1 Axes>"
      ]
     },
     "metadata": {
      "needs_background": "light"
     },
     "output_type": "display_data"
    }
   ],
   "source": [
    "plt.figure(figsize=(12,5))\n",
    "plt.title('Balanced accuracy')\n",
    "plot = plt.bar(['Logistic','Decision Tree','Random Forest'],[balacc_log,balacc_tree,balacc_forest],color=['lightsalmon','lightblue','lightgreen'])\n",
    "plt.yticks(np.arange(0,120,20))\n",
    "for i in plot:\n",
    "    height = i.get_height()\n",
    "    plt.text(i.get_x() + i.get_width()/2.,\n",
    "             1.002*height,'%d'% int(height),ha='center',va='bottom' )\n",
    "plt.show()"
   ]
  },
  {
   "cell_type": "markdown",
   "metadata": {},
   "source": [
    "### ROC AUC Score\n",
    "\n",
    "Tells how much model is capable of distinguishing between classes. \n",
    "\n",
    "[sumber](https://towardsdatascience.com/understanding-auc-roc-curve-68b2303cc9c5)"
   ]
  },
  {
   "cell_type": "code",
   "execution_count": 50,
   "metadata": {},
   "outputs": [
    {
     "data": {
      "image/png": "[encoded data removed]",
      "text/plain": [
       "<Figure size 432x288 with 1 Axes>"
      ]
     },
     "metadata": {
      "needs_background": "light"
     },
     "output_type": "display_data"
    },
    {
     "data": {
      "image/png": "[encoded data removed]",
      "text/plain": [
       "<Figure size 432x288 with 1 Axes>"
      ]
     },
     "metadata": {
      "needs_background": "light"
     },
     "output_type": "display_data"
    },
    {
     "data": {
      "image/png": "[encoded data removed]",
      "text/plain": [
       "<Figure size 432x288 with 1 Axes>"
      ]
     },
     "metadata": {
      "needs_background": "light"
     },
     "output_type": "display_data"
    }
   ],
   "source": [
    "plot_roc_curve(log_new,x_test,y_test), plot_roc_curve(tree_new,x_test,y_test),plot_roc_curve(forest_new,x_test,y_test)\n",
    "plt.show()"
   ]
  },
  {
   "cell_type": "markdown",
   "metadata": {},
   "source": [
    "##### According AUC score, Random forest is the best in distinguishing between target labels."
   ]
  },
  {
   "cell_type": "markdown",
   "metadata": {},
   "source": [
    "### Evaluation Metrics insight\n",
    "\n",
    "##### Overall, we can conclude that Logistic Regression perform poorly for this dataset, especially in predicting churn outcome (1 label), hence, we will not use Logistic Regression. \n",
    "\n",
    "##### In comparison, Decision Tree and Random Forest have similar score in most evaluation metrics.\n",
    "\n",
    "##### However, in precision metrics, Random Forest clearly outperforms Decision Trees. Hence, for this project, Random Forest will be picked."
   ]
  },
  {
   "cell_type": "markdown",
   "metadata": {},
   "source": [
    "### Feature importance in Random Forest"
   ]
  },
  {
   "cell_type": "code",
   "execution_count": 51,
   "metadata": {},
   "outputs": [
    {
     "data": {
      "text/plain": [
       "day_charge           25.485313\n",
       "CS_calls             14.497037\n",
       "intl_charge           7.505696\n",
       "intl_No               7.287130\n",
       "eve_charge            7.155806\n",
       "intl_Yes              6.708317\n",
       "intl_call             6.316368\n",
       "night_charge          3.952437\n",
       "Voicemail_message     3.321760\n",
       "day_call              3.028422\n",
       "dtype: float64"
      ]
     },
     "execution_count": 51,
     "metadata": {},
     "output_type": "execute_result"
    }
   ],
   "source": [
    "importance = pd.Series(forest_new.feature_importances_,x_train.columns).sort_values(ascending=False)\n",
    "top10 = importance.head(10)*100\n",
    "top10"
   ]
  },
  {
   "cell_type": "code",
   "execution_count": 94,
   "metadata": {},
   "outputs": [
    {
     "data": {
      "image/png": "[encoded data removed]",
      "text/plain": [
       "<Figure size 864x360 with 1 Axes>"
      ]
     },
     "metadata": {
      "needs_background": "light"
     },
     "output_type": "display_data"
    }
   ],
   "source": [
    "plt.figure(figsize=(12,5))\n",
    "plt.title('Feature importance according to random forest')\n",
    "top10.plot(kind='bar',color=['yellowgreen'])\n",
    "plt.show()"
   ]
  },
  {
   "cell_type": "markdown",
   "metadata": {},
   "source": [
    "According to Random Forest's feature importance, day charges is the most determining factor in customer churning, followed by customer service calls made. This 2 factors combine to almost 40%.\n",
    "\n",
    "International charge and plan also affect prediction, having total feature importance of 27%\n",
    "\n",
    "#### Key Assumption:\n",
    "1. Many churning customers feel that company day charge is too expensive, in comparison with other networks.\n",
    "2. Customer with more customer service calls tend to churn due to customer experience issue or complaints made due to company's charging or network.\n",
    "3. Company's international service might have recurring issues that make customer unhappy, in both network and pricing."
   ]
  },
  {
   "cell_type": "markdown",
   "metadata": {},
   "source": [
    "#### Recommendation\n",
    "\n",
    "1. Company need to monitor customer who made customer service calls -- Many CS calls could indicate that there is something wrong with the company that make customer unhappy.\n",
    "2. Company need to have a good customer service team -- As the connector between company and customers, good customer service could give customer a good sense of idea of what company is all about. Bad service == customer dissatisfaction == higher probability of churn\n",
    "3. Monitor day charge rate -- company need to make sure the rate is at reasonable level. Price too high == higher customer churn\n",
    "4. Improve international service -- customer with international plan tend to churn more."
   ]
  },
  {
   "cell_type": "markdown",
   "metadata": {},
   "source": [
    "### Export chosen model for deploy"
   ]
  },
  {
   "cell_type": "code",
   "execution_count": 95,
   "metadata": {},
   "outputs": [
    {
     "data": {
      "text/plain": [
       "['randomforest']"
      ]
     },
     "execution_count": 95,
     "metadata": {},
     "output_type": "execute_result"
    }
   ],
   "source": [
    "joblib.dump(forest_new,'randomforest')"
   ]
  }
 ],
 "metadata": {
  "kernelspec": {
   "display_name": "Python 3",
   "language": "python",
   "name": "python3"
  },
  "language_info": {
   "codemirror_mode": {
    "name": "ipython",
    "version": 3
   },
   "file_extension": ".py",
   "mimetype": "text/x-python",
   "name": "python",
   "nbconvert_exporter": "python",
   "pygments_lexer": "ipython3",
   "version": "3.7.4"
  }
 },
 "nbformat": 4,
 "nbformat_minor": 4
}
